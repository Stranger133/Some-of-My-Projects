{
  "nbformat": 4,
  "nbformat_minor": 0,
  "metadata": {
    "colab": {
      "provenance": [],
      "collapsed_sections": []
    },
    "kernelspec": {
      "name": "python3",
      "display_name": "Python 3"
    },
    "language_info": {
      "name": "python"
    }
  },
  "cells": [
    {
      "cell_type": "code",
      "execution_count": 24,
      "metadata": {
        "colab": {
          "base_uri": "https://localhost:8080/"
        },
        "id": "KSfjuNJ1XS_l",
        "outputId": "2e369883-185d-48d1-da4e-68a5aceba435"
      },
      "outputs": [
        {
          "output_type": "stream",
          "name": "stdout",
          "text": [
            "Guess the Number between (1,100)hello\n",
            "Your input should be a Number; Try again.\n",
            "Guess the Number between (1,100)800\n",
            "Your input should be lower than 100\n"
          ]
        }
      ],
      "source": [
        "import random\n",
        "\n",
        "nb = 0\n",
        "min = 1\n",
        "max = 100\n",
        "number = random.randint(min,max)\n",
        "\n",
        "while True:\n",
        "\n",
        "  inputs = input(f\"Guess the Number between ({min},{max})\")\n",
        "  if inputs.isdigit():\n",
        "    guess = int(inputs)\n",
        "    if guess > 100:\n",
        "      print(\"Your input should be lower than 100\")\n",
        "      break\n",
        "    else:\n",
        "      nb += 1\n",
        "      if guess < number:\n",
        "        print(f\"{guess} is Low\")\n",
        "      elif guess > number:\n",
        "        print(f\"{guess} is High\")\n",
        "      else:\n",
        "        print(f\"You guessed it write: {guess}\")\n",
        "        print(f\"It took you {nb} guesses to get it right\")\n",
        "        break\n",
        "  else:\n",
        "    print(\"Your input should be a Number; Try again.\")\n",
        "  \n",
        "\n",
        "  \n"
      ]
    },
    {
      "cell_type": "code",
      "source": [],
      "metadata": {
        "id": "kK54tsb9zhkb"
      },
      "execution_count": null,
      "outputs": []
    }
  ]
}