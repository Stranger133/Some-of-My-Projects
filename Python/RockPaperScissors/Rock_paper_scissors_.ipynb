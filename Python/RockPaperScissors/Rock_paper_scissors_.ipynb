{
  "nbformat": 4,
  "nbformat_minor": 0,
  "metadata": {
    "colab": {
      "provenance": [],
      "collapsed_sections": []
    },
    "kernelspec": {
      "name": "python3",
      "display_name": "Python 3"
    },
    "language_info": {
      "name": "python"
    }
  },
  "cells": [
    {
      "cell_type": "code",
      "execution_count": 42,
      "metadata": {
        "colab": {
          "base_uri": "https://localhost:8080/"
        },
        "id": "KSfjuNJ1XS_l",
        "outputId": "0db4adb3-a46b-4699-9876-c211d352a2cc"
      },
      "outputs": [
        {
          "output_type": "stream",
          "name": "stdout",
          "text": [
            "Type your choice (Rock/Paper/Scissors), Or Q to quit: rock\n",
            "Computer chose: 'paper'\n",
            "***You lost!***\n",
            "Type your choice (Rock/Paper/Scissors), Or Q to quit: paper\n",
            "Computer chose: 'paper'\n",
            "***It's a Draw ...***\n",
            "Type your choice (Rock/Paper/Scissors), Or Q to quit: scissors\n",
            "Computer chose: 'paper'\n",
            "***You won!***\n",
            "The User Won 1 times\n",
            "The Computer Won 1 times\n",
            "!!! Draw !!!\n"
          ]
        }
      ],
      "source": [
        "import random \n",
        "user_wins = 0\n",
        "bot_wins = 0\n",
        "options = [\"rock\",\"paper\",\"scissors\"]\n",
        "n = 0\n",
        "\n",
        "while n < 3:\n",
        "  user_input = input(\"Type your choice (Rock/Paper/Scissors), Or Q to quit: \").lower()\n",
        "  if user_input == \"q\":\n",
        "    break\n",
        "  if user_input not in [\"rock\",\"paper\",\"scissors\"]:\n",
        "    continue\n",
        "  index = random.randint(0,2)\n",
        "  print(\"Computer chose: '\"+ options[index] +\"'\")\n",
        "\n",
        "  if user_input == options[index]:\n",
        "    print(\"***It's a Draw***\")\n",
        "  elif user_input == \"rock\" and index == 2:\n",
        "    print(\"***You won!***\")\n",
        "    user_wins += 1\n",
        "  elif user_input == \"paper\" and index == 0:\n",
        "    print(\"***You won!***\")\n",
        "    user_wins += 1\n",
        "  elif user_input == \"scissors\" and index == 1:\n",
        "    print(\"***You won!***\")\n",
        "    user_wins += 1\n",
        "  \n",
        "  else:\n",
        "    print(\"***You lost!***\")\n",
        "    bot_wins += 1\n",
        "  n += 1\n",
        "\n",
        "print(f\"The User Won {user_wins} times\")\n",
        "print(f\"The Computer Won {bot_wins} times\")\n",
        "\n",
        "if user_wins == bot_wins:\n",
        "  print(\"!!! Draw !!!\")\n",
        "elif user_wins > bot_wins:\n",
        "  print(\"___The User Has Won!___\")\n",
        "else:\n",
        "  print(\"___Computer Has Won!___\")\n",
        "\n",
        "\n",
        "\n",
        "\n"
      ]
    }
  ]
}